{
 "cells": [
  {
   "cell_type": "code",
   "execution_count": 1,
   "id": "3209544b",
   "metadata": {},
   "outputs": [],
   "source": [
    "import numpy as np\n",
    "import pandas as pd\n",
    "import matplotlib.pyplot as plt\n",
    "import seaborn as sns"
   ]
  },
  {
   "cell_type": "code",
   "execution_count": 2,
   "id": "d69f07aa",
   "metadata": {},
   "outputs": [],
   "source": [
    "data=pd.read_csv(r'C:\\Users\\DELL\\Downloads\\car_age_price.csv')"
   ]
  },
  {
   "cell_type": "code",
   "execution_count": 3,
   "id": "dce544a7",
   "metadata": {},
   "outputs": [
    {
     "data": {
      "text/html": [
       "<div>\n",
       "<style scoped>\n",
       "    .dataframe tbody tr th:only-of-type {\n",
       "        vertical-align: middle;\n",
       "    }\n",
       "\n",
       "    .dataframe tbody tr th {\n",
       "        vertical-align: top;\n",
       "    }\n",
       "\n",
       "    .dataframe thead th {\n",
       "        text-align: right;\n",
       "    }\n",
       "</style>\n",
       "<table border=\"1\" class=\"dataframe\">\n",
       "  <thead>\n",
       "    <tr style=\"text-align: right;\">\n",
       "      <th></th>\n",
       "      <th>Year</th>\n",
       "      <th>Price</th>\n",
       "    </tr>\n",
       "  </thead>\n",
       "  <tbody>\n",
       "    <tr>\n",
       "      <th>0</th>\n",
       "      <td>2018</td>\n",
       "      <td>465000</td>\n",
       "    </tr>\n",
       "    <tr>\n",
       "      <th>1</th>\n",
       "      <td>2019</td>\n",
       "      <td>755000</td>\n",
       "    </tr>\n",
       "    <tr>\n",
       "      <th>2</th>\n",
       "      <td>2019</td>\n",
       "      <td>700000</td>\n",
       "    </tr>\n",
       "    <tr>\n",
       "      <th>3</th>\n",
       "      <td>2018</td>\n",
       "      <td>465000</td>\n",
       "    </tr>\n",
       "    <tr>\n",
       "      <th>4</th>\n",
       "      <td>2018</td>\n",
       "      <td>465000</td>\n",
       "    </tr>\n",
       "  </tbody>\n",
       "</table>\n",
       "</div>"
      ],
      "text/plain": [
       "   Year   Price\n",
       "0  2018  465000\n",
       "1  2019  755000\n",
       "2  2019  700000\n",
       "3  2018  465000\n",
       "4  2018  465000"
      ]
     },
     "execution_count": 3,
     "metadata": {},
     "output_type": "execute_result"
    }
   ],
   "source": [
    "data.head()"
   ]
  },
  {
   "cell_type": "code",
   "execution_count": 4,
   "id": "bccb14ed",
   "metadata": {},
   "outputs": [
    {
     "data": {
      "text/plain": [
       "(112, 2)"
      ]
     },
     "execution_count": 4,
     "metadata": {},
     "output_type": "execute_result"
    }
   ],
   "source": [
    "data.shape"
   ]
  },
  {
   "cell_type": "code",
   "execution_count": 5,
   "id": "ae845416",
   "metadata": {},
   "outputs": [
    {
     "data": {
      "text/plain": [
       "<bound method NDFrame.describe of      Year   Price\n",
       "0    2018  465000\n",
       "1    2019  755000\n",
       "2    2019  700000\n",
       "3    2018  465000\n",
       "4    2018  465000\n",
       "..    ...     ...\n",
       "107  2016  375000\n",
       "108  2014  300000\n",
       "109  2015  425000\n",
       "110  2016  420000\n",
       "111  2015  425000\n",
       "\n",
       "[112 rows x 2 columns]>"
      ]
     },
     "execution_count": 5,
     "metadata": {},
     "output_type": "execute_result"
    }
   ],
   "source": [
    "data.describe"
   ]
  },
  {
   "cell_type": "code",
   "execution_count": 6,
   "id": "4a8a97b0",
   "metadata": {},
   "outputs": [
    {
     "data": {
      "text/plain": [
       "<bound method DataFrame.info of      Year   Price\n",
       "0    2018  465000\n",
       "1    2019  755000\n",
       "2    2019  700000\n",
       "3    2018  465000\n",
       "4    2018  465000\n",
       "..    ...     ...\n",
       "107  2016  375000\n",
       "108  2014  300000\n",
       "109  2015  425000\n",
       "110  2016  420000\n",
       "111  2015  425000\n",
       "\n",
       "[112 rows x 2 columns]>"
      ]
     },
     "execution_count": 6,
     "metadata": {},
     "output_type": "execute_result"
    }
   ],
   "source": [
    "data.info"
   ]
  },
  {
   "cell_type": "code",
   "execution_count": 7,
   "id": "c45e7635",
   "metadata": {},
   "outputs": [
    {
     "data": {
      "text/plain": [
       "Index(['Year', 'Price'], dtype='object')"
      ]
     },
     "execution_count": 7,
     "metadata": {},
     "output_type": "execute_result"
    }
   ],
   "source": [
    "data.columns"
   ]
  },
  {
   "cell_type": "markdown",
   "id": "d519eafb",
   "metadata": {},
   "source": [
    "# Missing values"
   ]
  },
  {
   "cell_type": "code",
   "execution_count": 8,
   "id": "914f2ce7",
   "metadata": {},
   "outputs": [
    {
     "data": {
      "text/plain": [
       "Year     0\n",
       "Price    0\n",
       "dtype: int64"
      ]
     },
     "execution_count": 8,
     "metadata": {},
     "output_type": "execute_result"
    }
   ],
   "source": [
    "data.isna().sum()"
   ]
  },
  {
   "cell_type": "markdown",
   "id": "6f570fcb",
   "metadata": {},
   "source": [
    "# Outlier detection"
   ]
  },
  {
   "cell_type": "code",
   "execution_count": 9,
   "id": "404d7936",
   "metadata": {},
   "outputs": [],
   "source": [
    "num_col=['Year','Price']"
   ]
  },
  {
   "cell_type": "code",
   "execution_count": 10,
   "id": "79666f20",
   "metadata": {},
   "outputs": [
    {
     "data": {
      "image/png": "[encoded data removed]",
      "text/plain": [
       "<Figure size 640x480 with 1 Axes>"
      ]
     },
     "metadata": {},
     "output_type": "display_data"
    },
    {
     "data": {
      "image/png": "[encoded data removed]",
      "text/plain": [
       "<Figure size 640x480 with 1 Axes>"
      ]
     },
     "metadata": {},
     "output_type": "display_data"
    }
   ],
   "source": [
    "for i in num_col:\n",
    "    plt.figure()\n",
    "    plt.boxplot(data[i])\n",
    "    plt.title(i)"
   ]
  },
  {
   "cell_type": "code",
   "execution_count": 11,
   "id": "f48832a1",
   "metadata": {},
   "outputs": [],
   "source": [
    "Q1 = np.percentile(data['Price'],25,method=\"midpoint\")\n",
    "Q2 = np.percentile(data['Price'],50,method=\"midpoint\")\n",
    "Q3 = np.percentile(data['Price'],75,method=\"midpoint\")"
   ]
  },
  {
   "cell_type": "code",
   "execution_count": 12,
   "id": "c583bcc2",
   "metadata": {},
   "outputs": [
    {
     "name": "stdout",
     "output_type": "stream",
     "text": [
      "422500.0\n",
      "500000.0\n",
      "550000.0\n"
     ]
    }
   ],
   "source": [
    "print(Q1)\n",
    "print(Q2)\n",
    "print(Q3)"
   ]
  },
  {
   "cell_type": "code",
   "execution_count": 13,
   "id": "79871691",
   "metadata": {},
   "outputs": [],
   "source": [
    "IQR= Q3-Q1"
   ]
  },
  {
   "cell_type": "code",
   "execution_count": 14,
   "id": "63804032",
   "metadata": {},
   "outputs": [],
   "source": [
    "upp_lim = Q3+1.5*IQR\n",
    "low_lim = Q1-1.5*IQR"
   ]
  },
  {
   "cell_type": "code",
   "execution_count": 15,
   "id": "80608baf",
   "metadata": {},
   "outputs": [
    {
     "name": "stdout",
     "output_type": "stream",
     "text": [
      "741250.0\n",
      "231250.0\n"
     ]
    }
   ],
   "source": [
    "print(upp_lim)\n",
    "print(low_lim)"
   ]
  },
  {
   "cell_type": "code",
   "execution_count": 16,
   "id": "348ec66f",
   "metadata": {},
   "outputs": [],
   "source": [
    "outliers=[]\n",
    "for x in data['Price']:\n",
    "    if(x>upp_lim)or(x<low_lim):\n",
    "        outliers.append(x)"
   ]
  },
  {
   "cell_type": "code",
   "execution_count": 17,
   "id": "e149655f",
   "metadata": {},
   "outputs": [
    {
     "data": {
      "text/plain": [
       "[755000]"
      ]
     },
     "execution_count": 17,
     "metadata": {},
     "output_type": "execute_result"
    }
   ],
   "source": [
    "outliers"
   ]
  },
  {
   "cell_type": "markdown",
   "id": "6178a76f",
   "metadata": {},
   "source": [
    "# Visualisation"
   ]
  },
  {
   "cell_type": "code",
   "execution_count": 18,
   "id": "cded1c23",
   "metadata": {},
   "outputs": [
    {
     "data": {
      "text/plain": [
       "<Axes: >"
      ]
     },
     "execution_count": 18,
     "metadata": {},
     "output_type": "execute_result"
    },
    {
     "data": {
      "image/png": "[encoded data removed]",
      "text/plain": [
       "<Figure size 1000x800 with 2 Axes>"
      ]
     },
     "metadata": {},
     "output_type": "display_data"
    }
   ],
   "source": [
    "corrmatrix=data.corr()\n",
    "plt.subplots(figsize=(10,8))\n",
    "sns.heatmap(corrmatrix,annot=True)"
   ]
  },
  {
   "cell_type": "code",
   "execution_count": 19,
   "id": "f0b6d8aa",
   "metadata": {},
   "outputs": [],
   "source": [
    "y = data['Price']  #target variable\n",
    "x = data.drop(['Price'],axis=1)  #independant vari"
   ]
  },
  {
   "cell_type": "code",
   "execution_count": 20,
   "id": "c2fd3fb5",
   "metadata": {},
   "outputs": [],
   "source": [
    "from sklearn.model_selection import train_test_split\n",
    "x_train,x_test,y_train,y_test=train_test_split(x,y,test_size=0.25,random_state=120)"
   ]
  },
  {
   "cell_type": "markdown",
   "id": "4e464009",
   "metadata": {},
   "source": [
    "# Calculate the efficiancy of linear regression"
   ]
  },
  {
   "cell_type": "code",
   "execution_count": 21,
   "id": "9050b1f4",
   "metadata": {},
   "outputs": [],
   "source": [
    "from sklearn.linear_model import LinearRegression"
   ]
  },
  {
   "cell_type": "code",
   "execution_count": 22,
   "id": "73ebdcc4",
   "metadata": {},
   "outputs": [],
   "source": [
    "lr=LinearRegression()\n",
    "linear_model=lr.fit(x_train,y_train)\n",
    "y_pred=linear_model.predict(x_test)"
   ]
  },
  {
   "cell_type": "code",
   "execution_count": 23,
   "id": "8b2a1d11",
   "metadata": {},
   "outputs": [],
   "source": [
    "from sklearn.metrics import mean_squared_error,r2_score"
   ]
  },
  {
   "cell_type": "code",
   "execution_count": 24,
   "id": "82e3989f",
   "metadata": {},
   "outputs": [],
   "source": [
    "linear_mse=mean_squared_error(y_test,y_pred)\n",
    "linear_r2=r2_score(y_test,y_pred)"
   ]
  },
  {
   "cell_type": "code",
   "execution_count": 25,
   "id": "3ce0010f",
   "metadata": {},
   "outputs": [
    {
     "name": "stdout",
     "output_type": "stream",
     "text": [
      "2198306982.026254\n",
      "0.7190944361799476\n"
     ]
    }
   ],
   "source": [
    "print(linear_mse)\n",
    "print(linear_r2)"
   ]
  },
  {
   "cell_type": "markdown",
   "id": "e513ebe9",
   "metadata": {},
   "source": [
    "# Calculate the efficiency of lasso regression"
   ]
  },
  {
   "cell_type": "code",
   "execution_count": 26,
   "id": "0129be8a",
   "metadata": {},
   "outputs": [],
   "source": [
    "from sklearn.linear_model import Lasso"
   ]
  },
  {
   "cell_type": "code",
   "execution_count": 27,
   "id": "ead2f965",
   "metadata": {},
   "outputs": [],
   "source": [
    "lasso = Lasso(alpha = 0.01)\n",
    "lasso_model = lasso.fit(x_train,y_train)\n",
    "y_pred1 = lasso_model.predict(x_test)"
   ]
  },
  {
   "cell_type": "code",
   "execution_count": 28,
   "id": "24e5700b",
   "metadata": {},
   "outputs": [],
   "source": [
    "lasso_mse = mean_squared_error(y_test,y_pred1)\n",
    "lasso_r2 = r2_score(y_test,y_pred1)"
   ]
  },
  {
   "cell_type": "code",
   "execution_count": 29,
   "id": "2f77fd94",
   "metadata": {},
   "outputs": [
    {
     "name": "stdout",
     "output_type": "stream",
     "text": [
      "2198306893.9548273\n",
      "0.7190944474339507\n"
     ]
    }
   ],
   "source": [
    "print(lasso_mse)\n",
    "print(lasso_r2)"
   ]
  },
  {
   "cell_type": "markdown",
   "id": "77be71ce",
   "metadata": {},
   "source": [
    "# To find which one is more efficient"
   ]
  },
  {
   "cell_type": "code",
   "execution_count": 30,
   "id": "588c8139",
   "metadata": {},
   "outputs": [
    {
     "name": "stdout",
     "output_type": "stream",
     "text": [
      "Selected model : Lasso regression \n"
     ]
    }
   ],
   "source": [
    "if linear_mse < lasso_mse and linear_r2 > lasso_r2:\n",
    "    selected_model = linear_model\n",
    "    print(\"Selected model : Linear regression\")\n",
    "elif lasso_mse < linear_mse and lasso_r2 > linear_r2:\n",
    "    selected_model = lasso_model\n",
    "    print(\"Selected model : Lasso regression \")\n",
    "else:\n",
    "    print(\"Both models have similar performance.\") "
   ]
  },
  {
   "cell_type": "markdown",
   "id": "e70894d0",
   "metadata": {},
   "source": [
    "# Predicted price"
   ]
  },
  {
   "cell_type": "code",
   "execution_count": 31,
   "id": "c1420cab",
   "metadata": {},
   "outputs": [
    {
     "name": "stderr",
     "output_type": "stream",
     "text": [
      "C:\\Users\\DELL\\anaconda3\\lib\\site-packages\\sklearn\\base.py:420: UserWarning: X does not have valid feature names, but Lasso was fitted with feature names\n",
      "  warnings.warn(\n"
     ]
    }
   ],
   "source": [
    "predicted_price_2022 = selected_model.predict([[2022]])"
   ]
  },
  {
   "cell_type": "code",
   "execution_count": 32,
   "id": "4655915a",
   "metadata": {},
   "outputs": [
    {
     "data": {
      "text/plain": [
       "array([722228.05184886])"
      ]
     },
     "execution_count": 32,
     "metadata": {},
     "output_type": "execute_result"
    }
   ],
   "source": [
    "predicted_price_2022"
   ]
  },
  {
   "cell_type": "code",
   "execution_count": null,
   "id": "18d76d67",
   "metadata": {},
   "outputs": [],
   "source": []
  }
 ],
 "metadata": {
  "kernelspec": {
   "display_name": "Python 3 (ipykernel)",
   "language": "python",
   "name": "python3"
  },
  "language_info": {
   "codemirror_mode": {
    "name": "ipython",
    "version": 3
   },
   "file_extension": ".py",
   "mimetype": "text/x-python",
   "name": "python",
   "nbconvert_exporter": "python",
   "pygments_lexer": "ipython3",
   "version": "3.10.9"
  }
 },
 "nbformat": 4,
 "nbformat_minor": 5
}
